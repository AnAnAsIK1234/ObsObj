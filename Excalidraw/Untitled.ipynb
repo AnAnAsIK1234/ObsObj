{
 "cells": [
  {
   "cell_type": "code",
   "execution_count": null,
   "id": "9011f7aa-d573-4311-ae76-a7f396685765",
   "metadata": {},
   "outputs": [],
   "source": []
  }
 ],
 "metadata": {
  "kernelspec": {
   "display_name": "",
   "name": ""
  },
  "language_info": {
   "name": ""
  }
 },
 "nbformat": 4,
 "nbformat_minor": 5
}
